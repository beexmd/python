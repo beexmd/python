{
 "cells": [
  {
   "cell_type": "markdown",
   "id": "9b2cf41a-3ebf-4996-ab29-8866522c93c3",
   "metadata": {},
   "source": [
    "FizzBuzz\n",
    "Write a fizzbuzz() function that takes in a number, n, and returns a list of the numbers from 1 to n. For multiples of three, use \"Fizz\" instead of the number, and for the multiples of five, use \"Buzz\". For numbers that are multiples of both three and five, use \"FizzBuzz\" (capitalization matters).\n",
    "\n",
    "For example, fizzbuzz(16) should return [1, 2, 'Fizz', 4, 'Buzz', 'Fizz', 7, 8, 'Fizz', 'Buzz', 11, 'Fizz', 13, 14, 'FizzBuzz', 16].\n",
    "\n",
    "This challenge was reported to have been asked at interviews with many top companies, including Google. If you’ve covered the material in Pass the Technical Interview with Python or an equivalent, you should be able to solve this challenge. If you have trouble, try refreshing your knowledge there first."
   ]
  },
  {
   "cell_type": "markdown",
   "id": "99435841-6c7e-4258-8ba4-0f34e65a726b",
   "metadata": {},
   "source": [
    "https://www.codecademy.com/code-challenges/code-challenge-fizzbuzz-python"
   ]
  },
  {
   "cell_type": "code",
   "execution_count": 8,
   "id": "024f4b2a-4c53-45f5-8832-41fd438c0da3",
   "metadata": {},
   "outputs": [],
   "source": [
    "def fizzbuzz(limit):\n",
    "    output = []\n",
    "    for num in range(1, limit+1):\n",
    "        if num % 3 == 0 and num % 5 == 0:\n",
    "            output.append(\"FizzBuzz\")\n",
    "        elif num % 3 == 0:\n",
    "            output.append(\"Fizz\")\n",
    "        elif num % 5 == 0:\n",
    "            output.append(\"Buzz\")\n",
    "        else:\n",
    "            output.append(num)\n",
    "    return output"
   ]
  },
  {
   "cell_type": "code",
   "execution_count": 10,
   "id": "6732f951-e91f-4711-9963-8200dbf52809",
   "metadata": {},
   "outputs": [
    {
     "name": "stdout",
     "output_type": "stream",
     "text": [
      "[1, 2, 'Fizz', 4, 'Buzz', 'Fizz', 7, 8, 'Fizz', 'Buzz', 11, 'Fizz', 13, 14, 'FizzBuzz', 16]\n"
     ]
    }
   ],
   "source": [
    "print(fizzbuzz(16))"
   ]
  },
  {
   "cell_type": "code",
   "execution_count": null,
   "id": "3dd84bb6-8581-4d1b-9a06-b6fa683f8490",
   "metadata": {},
   "outputs": [],
   "source": []
  },
  {
   "cell_type": "code",
   "execution_count": null,
   "id": "08f05a20-4818-4c68-85a4-086f2d570141",
   "metadata": {},
   "outputs": [],
   "source": []
  }
 ],
 "metadata": {
  "kernelspec": {
   "display_name": "Python [conda env:base] *",
   "language": "python",
   "name": "conda-base-py"
  },
  "language_info": {
   "codemirror_mode": {
    "name": "ipython",
    "version": 3
   },
   "file_extension": ".py",
   "mimetype": "text/x-python",
   "name": "python",
   "nbconvert_exporter": "python",
   "pygments_lexer": "ipython3",
   "version": "3.12.7"
  }
 },
 "nbformat": 4,
 "nbformat_minor": 5
}
