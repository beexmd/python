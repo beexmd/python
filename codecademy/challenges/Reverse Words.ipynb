{
 "cells": [
  {
   "cell_type": "markdown",
   "id": "8d9e1ee6-f363-4539-973f-d8987a08149d",
   "metadata": {},
   "source": [
    "Reverse Words\n",
    "Write a function, word_reverser(), that will take a given string and reverse the order of the words. You may assume that the string is a sentence that contains only letters and spaces, with all words separated by one space.\n",
    "\n",
    "For example, word_reverser(\"Codecademy rules\") should return \"rules Codecademy\" and word_reverser(\"May the Fourth be with you\") should return \"you with be Fourth the May\".\n",
    "\n",
    "This challenge was reported to have been asked at interviews with Facebook and Google. If you’ve covered the material in Pass the Technical Interview with Python or an equivalent, you should be able to solve this challenge. If you have trouble, try refreshing your knowledge there first."
   ]
  },
  {
   "cell_type": "code",
   "execution_count": null,
   "id": "65a91bc4-d4d4-43a9-a3c0-66c96a0dadf9",
   "metadata": {},
   "outputs": [],
   "source": [
    "https://www.codecademy.com/code-challenges/code-challenge-reverse-words-python"
   ]
  },
  {
   "cell_type": "code",
   "execution_count": 10,
   "id": "936ae789-56b5-4c75-9866-d557cdb0ab6d",
   "metadata": {},
   "outputs": [],
   "source": [
    "def word_reverser(phrase):\n",
    "  phrase_list = phrase.split()\n",
    "  reversed_phrase = \"\"\n",
    "  for i in range(0,len(phrase_list)):\n",
    "    reversed_phrase += phrase_list[-(i+1)] + \" \"\n",
    "  return reversed_phrase.strip()"
   ]
  },
  {
   "cell_type": "code",
   "execution_count": 12,
   "id": "e0c577d3-661f-4a95-bf1c-986670096872",
   "metadata": {},
   "outputs": [
    {
     "name": "stdout",
     "output_type": "stream",
     "text": [
      "rules Codecademy\n"
     ]
    }
   ],
   "source": [
    "print(word_reverser('Codecademy rules'))"
   ]
  },
  {
   "cell_type": "code",
   "execution_count": null,
   "id": "dc7e7775-bb53-4e5d-af66-06e1dcd64e85",
   "metadata": {},
   "outputs": [],
   "source": []
  }
 ],
 "metadata": {
  "kernelspec": {
   "display_name": "Python [conda env:base] *",
   "language": "python",
   "name": "conda-base-py"
  },
  "language_info": {
   "codemirror_mode": {
    "name": "ipython",
    "version": 3
   },
   "file_extension": ".py",
   "mimetype": "text/x-python",
   "name": "python",
   "nbconvert_exporter": "python",
   "pygments_lexer": "ipython3",
   "version": "3.12.7"
  }
 },
 "nbformat": 4,
 "nbformat_minor": 5
}
