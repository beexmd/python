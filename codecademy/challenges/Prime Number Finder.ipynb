{
 "cells": [
  {
   "cell_type": "markdown",
   "id": "a71647cc-e1f8-4add-bb69-ce00b35bd364",
   "metadata": {},
   "source": [
    "Prime Number Finder\n",
    "Create a prime_finder() function that takes in a number, n, and returns all the prime numbers from 1 to n (inclusive). As a reminder, a prime number is a number that is only divisible by 1 and itself.\n",
    "\n",
    "For example, prime_finder(11) should return [2, 3, 5, 7, 11].\n",
    "\n",
    "Variations of this challenge have been reported to have been asked at interviews with Facebook. If you’ve covered the material in Pass the Technical Interview with Python or an equivalent, you should be able to solve this challenge. If you have trouble, try refreshing your knowledge there first."
   ]
  },
  {
   "cell_type": "markdown",
   "id": "452a18f7-d43e-431a-bc4c-a36eff818cd0",
   "metadata": {},
   "source": [
    "https://www.codecademy.com/code-challenges/code-challenge-prime-number-finder-python"
   ]
  },
  {
   "cell_type": "code",
   "execution_count": 415,
   "id": "8677d17c-e4df-40cf-b8a4-1b99c7f121d4",
   "metadata": {},
   "outputs": [],
   "source": [
    "def prime_finder(n):\n",
    "    primes = []\n",
    "    for num in range(2, n+1):\n",
    "        if num != 1:\n",
    "            for i in range(2, num):\n",
    "                if num % i == 0:\n",
    "                    break\n",
    "            else:\n",
    "                primes.append(num)\n",
    "    return primes"
   ]
  },
  {
   "cell_type": "code",
   "execution_count": 417,
   "id": "a0188821-ffab-416e-bb60-cdd06a3d5904",
   "metadata": {},
   "outputs": [
    {
     "name": "stdout",
     "output_type": "stream",
     "text": [
      "[2, 3, 5, 7, 11]\n"
     ]
    }
   ],
   "source": [
    "print(prime_finder(11))"
   ]
  },
  {
   "cell_type": "code",
   "execution_count": null,
   "id": "d7106d05-685b-4274-bcf9-c4cec1517eb5",
   "metadata": {},
   "outputs": [],
   "source": []
  }
 ],
 "metadata": {
  "kernelspec": {
   "display_name": "Python [conda env:base] *",
   "language": "python",
   "name": "conda-base-py"
  },
  "language_info": {
   "codemirror_mode": {
    "name": "ipython",
    "version": 3
   },
   "file_extension": ".py",
   "mimetype": "text/x-python",
   "name": "python",
   "nbconvert_exporter": "python",
   "pygments_lexer": "ipython3",
   "version": "3.12.7"
  }
 },
 "nbformat": 4,
 "nbformat_minor": 5
}
